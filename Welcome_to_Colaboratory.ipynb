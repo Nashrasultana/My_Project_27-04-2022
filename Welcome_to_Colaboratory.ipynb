{
  "cells": [
    {
      "cell_type": "markdown",
      "metadata": {
        "id": "view-in-github",
        "colab_type": "text"
      },
      "source": [
        "<a href=\"https://colab.research.google.com/github/Nashrasultana/My_Project_27-04-2022/blob/main/Welcome_to_Colaboratory.ipynb\" target=\"_parent\"><img src=\"https://colab.research.google.com/assets/colab-badge.svg\" alt=\"Open In Colab\"/></a>"
      ]
    },
    {
      "cell_type": "code",
      "source": [
        "\n",
        "print(\"hello world\")\n",
        "\n",
        "hello world\n",
        "\n",
        "! pip3 install apache_beam\n",
        "\n",
        "1s\n",
        "! python3 -m apache_beam.examples.wordcount \\\n",
        "usage: wordcount.py [-h] [--input INPUT] --output OUTPUT\n",
        "wordcount.py: error: the following arguments are required: --output\n",
        "[ ]\n",
        "\n",
        "[48]\n",
        "import apache_beam as beam\n",
        "from apache_beam.options.pipeline_options import PipelineOptions\n",
        "p1 =beam.Pipeline\n",
        "movie_gt_4 = (\n",
        "    p1\n",
        "    | bm.io.ReadFromText('movies_rating.txt',skip_header_lines=1)\n",
        "    | bm.Map(lambda record : record.split(','))\n",
        "    | bm.Filter(lambda record: float(record[2])>4)\n",
        "    | bm.io.WriteToText('results.txt')\n",
        ")  \n",
        "p1.run()    \n",
        "#read movie_rating file, skip header\n",
        "#split the records based on comma\n",
        "#filter out all the records ratine is greater than 4\n",
        "#write the output\n",
        "[56]\n",
        "0s\n",
        "from apache_beam.options.pipeline_options import PipelineOptions\n",
        "\n",
        "input_file = 'movies_rating.txt'\n",
        "output_path = 'results.txt'\n",
        "\n",
        "beam_options = PipelineOptions(\n",
        "    runner='DataflowRunner',\n",
        "    project='my-project-id',\n",
        "    job_name='unique-job-name',\n",
        "    temp_location='gs://my-bucket/temp',\n",
        ")\n",
        "[68]\n",
        "0s\n",
        "pipeline = beam.Pipeline(Options=beam_options)\n",
        "\n",
        "[ ]\n",
        "from google.colab import drive\n",
        "drive.mount('/content/drive')\n",
        "New section\n",
        "[65]\n",
        "0s\n",
        "| 'ExtractWords' >> beam.FlatMap(lambda x: re.findall(r'[A-Za-z\\']+', x))\n",
        "\n",
        "New section\n",
        "New section\n",
        "\n",
        "error\n",
        "0s\n",
        "completed at 01:40\n",
        "fn, hint\n",
        "Run this cell to mount your Google Drive.\n",
        "\n",
        "Your GitHub account information is now saved on your Google Drive."
      ],
      "metadata": {
        "id": "e44z6TgN0bs_",
        "outputId": "8940c3e4-4878-4e24-c7ee-5b4ee265baba",
        "colab": {
          "base_uri": "https://localhost:8080/",
          "height": 131
        }
      },
      "execution_count": 1,
      "outputs": [
        {
          "output_type": "error",
          "ename": "SyntaxError",
          "evalue": "ignored",
          "traceback": [
            "\u001b[0;36m  File \u001b[0;32m\"<ipython-input-1-53eab7ccb947>\"\u001b[0;36m, line \u001b[0;32m2\u001b[0m\n\u001b[0;31m    My_project_28-04-2022.ipynb\u001b[0m\n\u001b[0m                   ^\u001b[0m\n\u001b[0;31mSyntaxError\u001b[0m\u001b[0;31m:\u001b[0m invalid token\n"
          ]
        }
      ]
    }
  ],
  "metadata": {
    "colab": {
      "collapsed_sections": [],
      "name": "Welcome to Colaboratory",
      "provenance": [],
      "include_colab_link": true
    },
    "kernelspec": {
      "display_name": "Python 3",
      "name": "python3"
    }
  },
  "nbformat": 4,
  "nbformat_minor": 0
}